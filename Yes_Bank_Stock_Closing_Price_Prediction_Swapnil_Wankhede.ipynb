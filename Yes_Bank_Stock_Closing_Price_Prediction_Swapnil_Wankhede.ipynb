{
  "nbformat": 4,
  "nbformat_minor": 0,
  "metadata": {
    "colab": {
      "private_outputs": true,
      "provenance": [],
      "collapsed_sections": [
        "nA9Y7ga8ng1Z",
        "PBTbrJXOngz2",
        "u3PMJOP6ngxN",
        "dauF4eBmngu3",
        "bKJF3rekwFvQ",
        "MSa1f5Uengrz",
        "GF8Ens_Soomf",
        "0wOQAZs5pc--",
        "K5QZ13OEpz2H",
        "lQ7QKXXCp7Bj",
        "448CDAPjqfQr",
        "KSlN3yHqYklG",
        "t6dVpIINYklI",
        "ijmpgYnKYklI",
        "-JiQyfWJYklI",
        "EM7whBJCYoAo",
        "fge-S5ZAYoAp",
        "85gYPyotYoAp",
        "RoGjAbkUYoAp",
        "4Of9eVA-YrdM",
        "iky9q4vBYrdO",
        "F6T5p64dYrdO",
        "y-Ehk30pYrdP",
        "bamQiAODYuh1",
        "QHF8YVU7Yuh3",
        "GwzvFGzlYuh3",
        "qYpmQ266Yuh3",
        "OH-pJp9IphqM",
        "bbFf2-_FphqN",
        "_ouA3fa0phqN",
        "Seke61FWphqN",
        "PIIx-8_IphqN",
        "t27r6nlMphqO",
        "r2jJGEOYphqO",
        "b0JNsNcRphqO",
        "BZR9WyysphqO",
        "jj7wYXLtphqO",
        "eZrbJ2SmphqO",
        "rFu4xreNphqO",
        "YJ55k-q6phqO",
        "gCFgpxoyphqP",
        "OVtJsKN_phqQ",
        "lssrdh5qphqQ",
        "U2RJ9gkRphqQ",
        "1M8mcRywphqQ",
        "tgIPom80phqQ",
        "JMzcOPDDphqR",
        "x-EpHcCOp1ci",
        "X_VqEhTip1ck",
        "8zGJKyg5p1ck",
        "PVzmfK_Ep1ck",
        "n3dbpmDWp1ck",
        "ylSl6qgtp1ck",
        "ZWILFDl5p1ck",
        "M7G43BXep1ck",
        "Ag9LCva-p1cl",
        "E6MkPsBcp1cl",
        "2cELzS2fp1cl",
        "3MPXvC8up1cl",
        "NC_X3p0fY2L0",
        "UV0SzAkaZNRQ",
        "YPEH6qLeZNRQ",
        "q29F0dvdveiT",
        "EXh0U9oCveiU",
        "22aHeOlLveiV",
        "g-ATYxFrGrvw",
        "Yfr_Vlr8HBkt",
        "8yEUt7NnHlrM",
        "tEA2Xm5dHt1r",
        "I79__PHVH19G",
        "Ou-I18pAyIpj",
        "fF3858GYyt-u",
        "4_0_7-oCpUZd",
        "hwyV_J3ipUZe",
        "3yB-zSqbpUZe",
        "dEUvejAfpUZe",
        "Fd15vwWVpUZf",
        "bn_IUdTipZyH",
        "49K5P_iCpZyH",
        "Nff-vKELpZyI",
        "kLW572S8pZyI",
        "dWbDXHzopZyI",
        "yLjJCtPM0KBk",
        "xiyOF9F70UgQ",
        "7wuGOrhz0itI",
        "id1riN9m0vUs",
        "578E2V7j08f6",
        "89xtkJwZ18nB",
        "67NQN5KX2AMe",
        "Iwf50b-R2tYG",
        "GMQiZwjn3iu7",
        "WVIkgGqN3qsr",
        "XkPnILGE3zoT",
        "Hlsf0x5436Go",
        "mT9DMSJo4nBL",
        "c49ITxTc407N",
        "OeJFEK0N496M",
        "9ExmJH0g5HBk",
        "cJNqERVU536h",
        "k5UmGsbsOxih",
        "T0VqWOYE6DLQ",
        "qBMux9mC6MCf",
        "-oLEiFgy-5Pf",
        "C74aWNz2AliB",
        "2DejudWSA-a0",
        "pEMng2IbBLp7",
        "rAdphbQ9Bhjc",
        "TNVZ9zx19K6k",
        "nqoHp30x9hH9",
        "rMDnDkt2B6du",
        "yiiVWRdJDDil",
        "1UUpS68QDMuG",
        "kexQrXU-DjzY",
        "T5CmagL3EC8N",
        "BhH2vgX9EjGr",
        "qjKvONjwE8ra",
        "P1XJ9OREExlT",
        "VFOzZv6IFROw",
        "TIqpNgepFxVj",
        "VfCC591jGiD4",
        "OB4l2ZhMeS1U",
        "ArJBuiUVfxKd",
        "4qY1EAkEfxKe",
        "PiV4Ypx8fxKe",
        "TfvqoZmBfxKf",
        "dJ2tPlVmpsJ0",
        "JWYfwnehpsJ1",
        "-jK_YjpMpsJ2",
        "HAih1iBOpsJ2",
        "zVGeBEFhpsJ2",
        "bmKjuQ-FpsJ3",
        "Fze-IPXLpx6K",
        "7AN1z2sKpx6M",
        "9PIHJqyupx6M",
        "_-qAgymDpx6N",
        "Z-hykwinpx6N",
        "h_CCil-SKHpo",
        "cBFFvTBNJzUa",
        "HvGl1hHyA_VK",
        "EyNgTHvd2WFk",
        "KH5McJBi2d8v",
        "iW_Lq9qf2h6X",
        "-Kee-DAl2viO",
        "gCX9965dhzqZ",
        "gIfDvo9L0UH2"
      ]
    },
    "kernelspec": {
      "name": "python3",
      "display_name": "Python 3"
    },
    "language_info": {
      "name": "python"
    }
  },
  "cells": [
    {
      "cell_type": "markdown",
      "source": [
        "# **Project Name**    - **Yes Bank Stock Closing Price Prediction**\n",
        "\n"
      ],
      "metadata": {
        "id": "vncDsAP0Gaoa"
      }
    },
    {
      "cell_type": "markdown",
      "source": [
        "# **Problem Statement**\n"
      ],
      "metadata": {
        "id": "yQaldy8SH6Dl"
      }
    },
    {
      "cell_type": "markdown",
      "source": [
        "Yes Bank is a well-known bank in the Indian financial domain. Since 2018, it has been in the news because of the fraud case involving Rana Kapoor. Owing to this fact, it was interesting to see how that impacted the stock prices of the company and whether Time series models or any other predictive models can do justice to such situations. This dataset has monthly stock prices of the bank since its inception and includes closing, starting, hightest, and lowest stock prices of every month.\n",
        "\n",
        "** **The main objective is to predict the stock's closing price of the month.** **\n"
      ],
      "metadata": {
        "id": "DpeJGUA3kjGy"
      }
    },
    {
      "cell_type": "markdown",
      "source": [
        "# ***Let's Begin !***"
      ],
      "metadata": {
        "id": "O_i_v8NEhb9l"
      }
    },
    {
      "cell_type": "markdown",
      "source": [
        "## ***1. Know Your Data***"
      ],
      "metadata": {
        "id": "HhfV-JJviCcP"
      }
    },
    {
      "cell_type": "markdown",
      "source": [
        "### Import Libraries"
      ],
      "metadata": {
        "id": "Y3lxredqlCYt"
      }
    },
    {
      "cell_type": "code",
      "source": [
        "# Import Libraries\n",
        "import numpy as np\n",
        "import pandas as pd\n",
        "import matplotlib.pyplot as plt\n",
        "import seaborn as sns\n",
        "\n"
      ],
      "metadata": {
        "id": "M8Vqi-pPk-HR"
      },
      "execution_count": null,
      "outputs": []
    },
    {
      "cell_type": "markdown",
      "source": [
        "### Dataset Loading"
      ],
      "metadata": {
        "id": "3RnN4peoiCZX"
      }
    },
    {
      "cell_type": "code",
      "source": [
        "# Load Dataset\n",
        "from google.colab import drive\n",
        "drive.mount('/content/drive')\n"
      ],
      "metadata": {
        "id": "4CkvbW_SlZ_R"
      },
      "execution_count": null,
      "outputs": []
    },
    {
      "cell_type": "code",
      "source": [
        "path = '/content/drive/MyDrive/Colab Notebooks/capstone_project_02/data_YesBank_StockPrices.csv'\n",
        "dataset = pd.read_csv(path)"
      ],
      "metadata": {
        "id": "rDYTPFYx5MKA"
      },
      "execution_count": null,
      "outputs": []
    },
    {
      "cell_type": "markdown",
      "source": [
        "### Dataset First View"
      ],
      "metadata": {
        "id": "x71ZqKXriCWQ"
      }
    },
    {
      "cell_type": "code",
      "source": [
        "# Dataset First Look\n",
        "dataset"
      ],
      "metadata": {
        "id": "LWNFOSvLl09H"
      },
      "execution_count": null,
      "outputs": []
    },
    {
      "cell_type": "markdown",
      "source": [
        "### Dataset Rows & Columns count"
      ],
      "metadata": {
        "id": "7hBIi_osiCS2"
      }
    },
    {
      "cell_type": "code",
      "source": [
        "# Dataset Rows & Columns count\n",
        "dataset.shape "
      ],
      "metadata": {
        "id": "Kllu7SJgmLij"
      },
      "execution_count": null,
      "outputs": []
    },
    {
      "cell_type": "markdown",
      "source": [
        "### Dataset Information"
      ],
      "metadata": {
        "id": "JlHwYmJAmNHm"
      }
    },
    {
      "cell_type": "code",
      "source": [
        "# Dataset Info\n",
        "dataset.info()"
      ],
      "metadata": {
        "id": "e9hRXRi6meOf"
      },
      "execution_count": null,
      "outputs": []
    },
    {
      "cell_type": "markdown",
      "source": [
        "#### Duplicate Values"
      ],
      "metadata": {
        "id": "35m5QtbWiB9F"
      }
    },
    {
      "cell_type": "code",
      "source": [
        "# Dataset Duplicate Value Count\n",
        "dataset.duplicated().value_counts()"
      ],
      "metadata": {
        "id": "1sLdpKYkmox0"
      },
      "execution_count": null,
      "outputs": []
    },
    {
      "cell_type": "markdown",
      "source": [
        "#### Missing Values/Null Values"
      ],
      "metadata": {
        "id": "PoPl-ycgm1ru"
      }
    },
    {
      "cell_type": "code",
      "source": [
        "# Missing Values/Null Values Count\n",
        "dataset.isnull().sum()"
      ],
      "metadata": {
        "id": "GgHWkxvamxVg"
      },
      "execution_count": null,
      "outputs": []
    },
    {
      "cell_type": "markdown",
      "source": [
        "### The given dataset has 185 observations with 5 features including no missing values and no duplicates values. Date feature is of object type. closing, opening, highest and lowest stock prices are features in float datatypes. \n",
        "\n"
      ],
      "metadata": {
        "id": "gfoNAAC-nUe_"
      }
    },
    {
      "cell_type": "markdown",
      "source": [
        "## ***2. Understanding Your Variables***"
      ],
      "metadata": {
        "id": "nA9Y7ga8ng1Z"
      }
    },
    {
      "cell_type": "code",
      "source": [
        "# Convert date column to a proper datetime datatype yyyy-mm-dd.\n",
        "from datetime import datetime\n",
        "dataset['Date'] = pd.to_datetime(dataset['Date'].apply(lambda x: datetime.strptime(x, \"%b-%y\")))"
      ],
      "metadata": {
        "id": "n1hPSzwmFPEP"
      },
      "execution_count": null,
      "outputs": []
    },
    {
      "cell_type": "code",
      "source": [
        "dataset.head()"
      ],
      "metadata": {
        "id": "va-ri-icBSWJ"
      },
      "execution_count": null,
      "outputs": []
    },
    {
      "cell_type": "code",
      "source": [
        "# Dataset Describe\n",
        "dataset.describe()"
      ],
      "metadata": {
        "id": "DnOaZdaE5Q5t"
      },
      "execution_count": null,
      "outputs": []
    },
    {
      "cell_type": "markdown",
      "source": [
        "### Variables Description "
      ],
      "metadata": {
        "id": "PBTbrJXOngz2"
      }
    },
    {
      "cell_type": "markdown",
      "source": [
        "We can see from the dataset above, all the variables are quantitive it means it shows numerical values. There is no categorical data present."
      ],
      "metadata": {
        "id": "cNNsOhaNOmTC"
      }
    },
    {
      "cell_type": "markdown",
      "source": [
        "\n",
        "\n",
        "*   Date :- The date (Month and Year provided)\n",
        "*   Open :- The price of the stock at the beginning of a particular time period.\n",
        "*   Close :- The trading price at the end (in this case end of the month)\n",
        "*   High :-The Maximum price at which a stock traded during the period.\n",
        "*   Low :-The Lowest price at which a stock traded during the period."
      ],
      "metadata": {
        "id": "eA_YaDOsD9-B"
      }
    },
    {
      "cell_type": "markdown",
      "source": [
        "The main objective is to predict the stock's closing price of the month so the closing price of stock have to be considered as dependent features whereas rest of the features are independent features."
      ],
      "metadata": {
        "id": "aJV4KIxSnxay"
      }
    },
    {
      "cell_type": "code",
      "source": [
        "# Setting date coloum as index as we need to track variation in stock price on different dates.\n",
        "dataset.set_index('Date', inplace = True)"
      ],
      "metadata": {
        "id": "A6iF5kgbImYe"
      },
      "execution_count": null,
      "outputs": []
    },
    {
      "cell_type": "code",
      "source": [
        "dependent_variable = 'Close'\n",
        "independent_variables =list(set(dataset.columns.tolist())-{dependent_variable})\n",
        "independent_variables"
      ],
      "metadata": {
        "id": "Fkv8pZ8sF_ec"
      },
      "execution_count": null,
      "outputs": []
    },
    {
      "cell_type": "markdown",
      "source": [
        "## ** Data Vizualization, Storytelling & Experimenting with charts : Understand the relationships between variables***"
      ],
      "metadata": {
        "id": "GF8Ens_Soomf"
      }
    },
    {
      "cell_type": "markdown",
      "source": [
        "**Assumptions:**\n",
        "\n",
        "The multiple regression model is based on a following assumptions:\n",
        "\n",
        "\n",
        "* **Linearity:** There should be linear relationship between the dependent and independent variables.\n",
        "\n",
        "*   **Normality:** Residual should be normally distributed with mear zero and constant variance σ2\n",
        "\n",
        "\n",
        "*   **Homoscedasticity:** It means that the variance around the regression line is the same for all values of the predictor variable i.e Close \n",
        "\n",
        "*   **Multicollinearity:** There should not be multicollinearity in regression model.\n",
        "\n",
        "First, we need to check the suggested assumption.\n",
        "\n",
        "\n"
      ],
      "metadata": {
        "id": "_xS0qVNZSPpZ"
      }
    },
    {
      "cell_type": "markdown",
      "source": [
        "#### Charts:-"
      ],
      "metadata": {
        "id": "0wOQAZs5pc--"
      }
    },
    {
      "cell_type": "code",
      "source": [
        "# plot dependent variable:\n",
        "plt.rcParams['figure.figsize']=(10,5)\n",
        "plt.plot(dataset['Close'], color= 'r')\n",
        "plt.title('Closing price with date')\n",
        "plt.xlabel('Date')\n",
        "plt.ylabel('Close')\n",
        "plt.grid(linestyle=':', linewidth = '0.5', color = 'b') # to display and customize gridlines on a plot.\n",
        "plt.show()"
      ],
      "metadata": {
        "id": "jAw9q-JUanqM"
      },
      "execution_count": null,
      "outputs": []
    },
    {
      "cell_type": "markdown",
      "source": [
        "we can see Yes bank stock price is rising up till 2018. \n",
        "When it has been in the news because of the fraud case involving Rana Kapur, the stock prices is showing rapidly decline. We can conclude that this news impacted the stock price of the company. "
      ],
      "metadata": {
        "id": "lHULFP0T8tia"
      }
    },
    {
      "cell_type": "markdown",
      "source": [
        "#### Charts:-"
      ],
      "metadata": {
        "id": "pN9yA3BN_S9O"
      }
    },
    {
      "cell_type": "markdown",
      "source": [
        "To check the linearity between dependent variable and independent variables. we are plotting the scatter plots."
      ],
      "metadata": {
        "id": "qVoM0nQQMy-U"
      }
    },
    {
      "cell_type": "code",
      "source": [
        "# Scatter plots\n",
        "for i in independent_variables:\n",
        "  plt.scatter(dataset[i], dataset['Close']) \n",
        "  plt.title(f\"{i} v/s Close\")\n",
        "  plt.xlabel(f'{i}')\n",
        "  plt.ylabel(\"Close\")\n",
        "  plt.show()\n"
      ],
      "metadata": {
        "id": "qGaLmzBGGY82"
      },
      "execution_count": null,
      "outputs": []
    },
    {
      "cell_type": "markdown",
      "source": [
        "We can see from scatter plot above, Independent variables such as Low, Open, High are showing the linearity with dependent variable Close."
      ],
      "metadata": {
        "id": "xvKKizMONYXq"
      }
    },
    {
      "cell_type": "markdown",
      "source": [
        "#### Charts:-"
      ],
      "metadata": {
        "id": "KXx9_MaDWvp5"
      }
    },
    {
      "cell_type": "markdown",
      "source": [
        "To know about the distribution of features, we are plotting histogram with default kernel density estimate which will give the idea how the data is distributed."
      ],
      "metadata": {
        "id": "AbNpbEELWvp6"
      }
    },
    {
      "cell_type": "code",
      "source": [
        "# Histogram\n",
        "for i in dataset.columns:\n",
        "  plt.figure(figsize=(10,6))\n",
        "  sns.distplot(dataset[i])\n",
        "  plt.xlabel(f\"{i}\")\n",
        "\n",
        "  # To plot the mean and the median line, axvline fuction is used which add the vertical line across the axis. \n",
        "  plt.axvline(dataset[i].mean(),color='green',linestyle='dashed', linewidth=1)  # vertical line at value mean.\n",
        "  plt.axvline(dataset[i].median(),color='red',linestyle='dashed',linewidth=1)   # vertical line at value median.\n",
        "  plt.show()\n",
        "  "
      ],
      "metadata": {
        "id": "SJX1FKKaWvp6"
      },
      "execution_count": null,
      "outputs": []
    },
    {
      "cell_type": "markdown",
      "source": [
        "From the above graph, it is observed that:\n",
        "\n",
        "\n",
        "\n",
        "*   All the freatures are positively skewed distributed. \n",
        "\n",
        "*   Mean is greater than Median i.e Mean > Median.\n",
        "  \n",
        "\n",
        "\n",
        "\n"
      ],
      "metadata": {
        "id": "pmS-2cXXWvp7"
      }
    },
    {
      "cell_type": "markdown",
      "source": [
        "#### Charts:-"
      ],
      "metadata": {
        "id": "HyJT92Tz3Eem"
      }
    },
    {
      "cell_type": "markdown",
      "source": [
        "We are using Box Whisker plot to visualize five number summary and to detect the outliers."
      ],
      "metadata": {
        "id": "0LblePQW3URh"
      }
    },
    {
      "cell_type": "code",
      "source": [
        "# Box-Whisker plot.\n",
        "for i in dataset.columns:\n",
        "  plt.rcParams['figure.figsize']=(8,5)\n",
        "  sns.boxplot(dataset[i])\n",
        "  plt.xlabel(f'{i}', fontsize=13)\n",
        "  plt.show()\n",
        "\n"
      ],
      "metadata": {
        "id": "NH2O_GTW3LPI"
      },
      "execution_count": null,
      "outputs": []
    },
    {
      "cell_type": "markdown",
      "source": [
        "It is observed that there are some outliers present in given dataset."
      ],
      "metadata": {
        "id": "d4ycczKv6uil"
      }
    },
    {
      "cell_type": "markdown",
      "source": [
        "####  Correlation Heatmap"
      ],
      "metadata": {
        "id": "NC_X3p0fY2L0"
      }
    },
    {
      "cell_type": "code",
      "source": [
        "# Correlation Heatmap visualization code\n",
        "plt.figure(figsize=(16,8))\n",
        "sns.heatmap(dataset[list(dataset.columns)].corr(),cmap='coolwarm', annot = True)"
      ],
      "metadata": {
        "id": "xyC9zolEZNRQ"
      },
      "execution_count": null,
      "outputs": []
    },
    {
      "cell_type": "markdown",
      "source": [
        "#### Pair Plot "
      ],
      "metadata": {
        "id": "q29F0dvdveiT"
      }
    },
    {
      "cell_type": "code",
      "source": [
        "# Pair Plot visualization code\n",
        "sns.pairplot(df)\n",
        "plt.figure(figsize=(20,8))\n",
        "plt.show()"
      ],
      "metadata": {
        "id": "o58-TEIhveiU"
      },
      "execution_count": null,
      "outputs": []
    },
    {
      "cell_type": "markdown",
      "source": [
        "To know about the pairwise relationship amongs the variables close, High, Open and Low, pairwise plot is used and it is concluded that scatter plots indicates the joint relationship whereas histograms indicate the univariate distribution."
      ],
      "metadata": {
        "id": "eMmPjTByveiU"
      }
    },
    {
      "cell_type": "markdown",
      "source": [
        "#### Charts:-"
      ],
      "metadata": {
        "id": "c81YQv6M2tyX"
      }
    }
  ]
}